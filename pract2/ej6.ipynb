{
 "cells": [
  {
   "cell_type": "code",
   "execution_count": 2,
   "id": "5f7dd41d-2a81-4379-bb23-268c31774dc6",
   "metadata": {},
   "outputs": [
    {
     "name": "stdout",
     "output_type": "stream",
     "text": [
      "4\n",
      "2\n",
      "1\n"
     ]
    }
   ],
   "source": [
    "descriptions = [\n",
    "\"Streaming de música en vivo con covers y composiciones\",\n",
    "\"Charla interactiva con la audiencia sobre series y películas\",\n",
    "\"Jugamos a juegos retro y charlamos sobre su historia\",\n",
    "\"Exploramos la mejor música de los 80s y 90s\",\n",
    "\"Programa de entretenimiento con noticias y curiosidades del mundo gamer\",\n",
    "\"Sesión de charla con invitados especiales del mundo del streaming\",\n",
    "\"Música en directo con improvisaciones y peticiones del chat\",\n",
    "\"Un espacio para charlar relajada sobre tecnología y cultura digital\",\n",
    "\"Exploramos el impacto de la música en los videojuegos clásicos\"\n",
    "]\n",
    "cantm = 0\n",
    "cantc = 0\n",
    "cante = 0\n",
    "\n",
    "for desc in descriptions:\n",
    "    cantm += desc.lower().split().count(\"música\")\n",
    "    cantc += desc.lower().split().count(\"charla\")\n",
    "    cante += desc.lower().split().count(\"entretenimiento\")\n",
    "\n",
    "print(cantm)\n",
    "print(cantc)\n",
    "print(cante)"
   ]
  },
  {
   "cell_type": "code",
   "execution_count": null,
   "id": "82f662fb-b362-437d-a075-9f1cbec11e3f",
   "metadata": {},
   "outputs": [],
   "source": []
  }
 ],
 "metadata": {
  "kernelspec": {
   "display_name": "Python 3 (ipykernel)",
   "language": "python",
   "name": "python3"
  },
  "language_info": {
   "codemirror_mode": {
    "name": "ipython",
    "version": 3
   },
   "file_extension": ".py",
   "mimetype": "text/x-python",
   "name": "python",
   "nbconvert_exporter": "python",
   "pygments_lexer": "ipython3",
   "version": "3.12.9"
  }
 },
 "nbformat": 4,
 "nbformat_minor": 5
}
