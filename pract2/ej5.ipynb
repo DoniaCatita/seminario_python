{
 "cells": [
  {
   "cell_type": "code",
   "execution_count": 9,
   "id": "a2fefa44-d79b-4aa4-aa2f-3b21ee3137d3",
   "metadata": {},
   "outputs": [
    {
     "name": "stdin",
     "output_type": "stream",
     "text": [
      "Ingrese su tiempo de reacción en ms:  0\n"
     ]
    },
    {
     "name": "stdout",
     "output_type": "stream",
     "text": [
      "Categoria: rapido\n"
     ]
    }
   ],
   "source": [
    "num = input(\"Ingrese su tiempo de reacción en ms: \")\n",
    "if(num.isnumeric()):\n",
    "    num = int(num)\n",
    "    if num < 200:\n",
    "        print(\"Categoria: rapido\")\n",
    "    elif num > 500:\n",
    "        print(\"Categoria: lento\")\n",
    "    else:\n",
    "        print(\"Categoria: normal\")\n",
    "else:\n",
    "    print(\"Valor no valido\")"
   ]
  },
  {
   "cell_type": "code",
   "execution_count": null,
   "id": "5e87ae6d-bce5-41a1-8f26-33ca150da980",
   "metadata": {},
   "outputs": [],
   "source": []
  }
 ],
 "metadata": {
  "kernelspec": {
   "display_name": "Python 3 (ipykernel)",
   "language": "python",
   "name": "python3"
  },
  "language_info": {
   "codemirror_mode": {
    "name": "ipython",
    "version": 3
   },
   "file_extension": ".py",
   "mimetype": "text/x-python",
   "name": "python",
   "nbconvert_exporter": "python",
   "pygments_lexer": "ipython3",
   "version": "3.12.9"
  }
 },
 "nbformat": 4,
 "nbformat_minor": 5
}
